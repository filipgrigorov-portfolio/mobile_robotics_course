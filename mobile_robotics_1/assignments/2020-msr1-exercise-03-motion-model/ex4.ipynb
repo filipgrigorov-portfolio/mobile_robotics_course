{
 "cells": [
  {
   "cell_type": "markdown",
   "metadata": {},
   "source": [
    "# Exercise 4\n",
    "\n",
    "**_DISCLAIMER:_** The notation used in this exercise follows the one of the Probabilistic Robotics book (refer to Chapter 5.4 in case you have doubts).\n",
    "\n",
    "## 4.1 Inverse motion model\n",
    "\n",
    "The odometry model uses the _relative motion information_. The odometry readings are $u_t = [{\\overline{x}}_{t-1} , {\\overline{x}}_{t}]$, where $\\overline{x}_{t-1}$ and  $\\overline{x}_t$ are poses in a robot-internal coordinate frame (different from the map).\n",
    "\n",
    "The function `inverse_motion_model` takes as input an odometry reading $u_t$ that consist in:\n",
    "\n",
    "- the initial pose of the robot in the **odometry** coordinate frame $\\overline{x}_{t-1} = [\\overline{x},\\overline{y},\\overline{\\theta}]$\n",
    "- the estimated pose of the robot in the **odometry** coordinate frame $\\overline{x}_t = [\\overline{x}',\\overline{y}',\\overline{\\theta}']$\n",
    "\n",
    "The output is the relative motion $\\delta_{rot1}, \\delta_{trans}, \\delta_{rot2}$.\n",
    "\n",
    "Implement the function `inverse_motion_model` and verify that it is correct for some test input. **[2.0]**"
   ]
  },
  {
   "cell_type": "code",
   "execution_count": 1,
   "metadata": {},
   "outputs": [
    {
     "name": "stdout",
     "output_type": "stream",
     "text": [
      "1.5708\n",
      "\n",
      "2.0\n",
      "\n",
      "1.5708\n"
     ]
    }
   ],
   "source": [
    "import numpy as np\n",
    "\n",
    "from ex4 import inverse_motion_model # Computes the probability of x_t, ~p(x_t | u_t, x_t-1)\n",
    "\n",
    "theta = np.pi * 0.5\n",
    "x_prev = np.array([ 0, 0, -theta ])\n",
    "x_next = np.array([ 2, 0, theta ])\n",
    "odometry = np.array([ x_prev, x_next ])\n",
    "\n",
    "rot1, trans, rot2 = inverse_motion_model(odometry)\n",
    "\n",
    "print(f'{rot1}\\n\\n{trans}\\n\\n{rot2}')"
   ]
  },
  {
   "cell_type": "markdown",
   "metadata": {},
   "source": [
    "## 4.2 Odometry-based motion model\n",
    "\n",
    "The function `motion_model_odometry` computes the posterior $p(x_t | u_t, x_{t-1})$ from odometry readings.\n",
    "\n",
    "This function takes as input:\n",
    "\n",
    "- the initial pose of the robot $x_{t-1} = [x,y,\\theta]$ _(**map** coordinate frame)_\n",
    "- the hypothesized (or query) final pose $x_{t} = [x', y', \\theta']$ _(**map** coordinate frame)_\n",
    "- the odometry readings $u_t = [\\overline{x}_{t-1} \\overline{x}_t]$ _(**odometry** coordinate frame)_\n",
    "- the noise parameters $\\mathbf{\\alpha} = [\\alpha_1, \\alpha_2, \\alpha_3, \\alpha_4]$\n",
    "\n",
    "The output is the probability $p(x_t | u_t, x_{t-1})$\n",
    "\n",
    "Assume that a robot starts at pose $x_0 = [2.0, 3.0, 0.0]$ in the map frame and moves according to a motion model with $\\mathbf{\\alpha} = [1.0, 1.0, 0.01, 0.01]$.\n",
    "\n",
    "The robot excecutes one motion command and the odometry readings are:\n",
    "\n",
    "1. $\\overline{x}_0 = [0.0 , 0.0 , 0.0   ]$\n",
    "2. $\\overline{x}_1 = [0.5 , 0.0 , \\pi/2 ]$\n",
    "\n",
    "Implement the `motion_model_odometry` function and verify that it is correct for some test input. **[1.0]**\n",
    "\n",
    "---\n",
    "\n",
    "Consider a 150x150 grid map the world with a resolution of 0.01, centered in the original position of the robot.\n",
    "\n",
    "Plot the posterior $p(x_t | u_t, x_{t-1})$ for all possible $[x, y]$ values from the grid. **[2.0]**\n",
    "\n",
    "**Note that** the query input is a position (**map** coordinates), not a pose. Therefore, to plot the posterior belief over the gridmap, you can assume the term $\\hat{\\delta}_\\mathrm{rot2}$ to be zero and, for each position, integrate over all possible orientations. This can be implemented by considering $p_3 = 1.0$ in the equations. "
   ]
  },
  {
   "cell_type": "code",
   "execution_count": 2,
   "metadata": {},
   "outputs": [
    {
     "name": "stdout",
     "output_type": "stream",
     "text": [
      "p(x_t | u_t, x_t-1)= 88.39%\n"
     ]
    }
   ],
   "source": [
    "from ex4 import motion_model_odometry\n",
    "\n",
    "theta = np.pi * 0.5\n",
    "x_prev = np.array([ 0.0, 0.0, 0.0 ])\n",
    "x_next = np.array([ 0.5, 0.0, theta ])\n",
    "odometry = np.array([ x_prev, x_next ])\n",
    "\n",
    "pose_prev = np.array([ 2.0, 3.0, 0.0 ])\n",
    "pose_next = np.array([ 2.5, 3.0, theta ])\n",
    "pose = np.array([ pose_prev, pose_next ])\n",
    "prob = motion_model_odometry(pose, odometry, np.array([ 1.0, 1.0, 0.01, 0.01 ]))\n",
    "\n",
    "print(f'p(x_t | u_t, x_t-1)= { round(prob, 4) * 100.0 }%')"
   ]
  },
  {
   "cell_type": "code",
   "execution_count": 3,
   "metadata": {},
   "outputs": [
    {
     "name": "stdout",
     "output_type": "stream",
     "text": [
      "Grid => 150x150\n",
      "(15000, 15000)\n"
     ]
    },
    {
     "data": {
      "text/plain": [
       "<matplotlib.image.AxesImage at 0x7effd81a2250>"
      ]
     },
     "execution_count": 3,
     "metadata": {},
     "output_type": "execute_result"
    },
    {
     "data": {
      "image/png": "[encoded data removed]",
      "text/plain": [
       "<Figure size 432x288 with 1 Axes>"
      ]
     },
     "metadata": {
      "needs_background": "light"
     },
     "output_type": "display_data"
    }
   ],
   "source": [
    "import matplotlib.pyplot as plt\n",
    "%matplotlib inline\n",
    "\n",
    "from ex4 import motion_model_odometry_with_map\n",
    "\n",
    "m, n = (150, 150)\n",
    "print(f'Grid => {m}x{n}')\n",
    "\n",
    "step = 0.01\n",
    "rows = int(np.ceil(m / step))\n",
    "cols = int(np.ceil(n / step))\n",
    "gridmap = np.zeros(shape=( rows, cols ))\n",
    "\n",
    "print(gridmap.shape)\n",
    "\n",
    "plt.imshow(gridmap, cmap='gray')\n",
    "\n",
    "#prob_map = motion_model_odometry_with_map(pose_prev, u_t, gridmap, np.array([ 1.0, 1.0, 0.01, 0.01 ]))\n",
    "#plt.imshow(prob_map)"
   ]
  },
  {
   "cell_type": "markdown",
   "metadata": {},
   "source": [
    "## 4.3 Sample odometry motion model\n",
    "\n",
    "The `motion_model_odometry` requires high computation complexity and does not scale well to large real-world environments. \n",
    "\n",
    "One effective approach to approximate $p(x_t | u_t, x_{t-1})$ is to use **sampling**.\n",
    "\n",
    "The `sample_motion_model_odometry` function defines the sampling-based odometry motion model. \n",
    "\n",
    "This function takes as input:\n",
    "\n",
    "- the initial pose of the robot $x_{t-1} = [x,y,\\theta]$ _(**map** coordinate frame)_\n",
    "- the odometry readings $u_t = [\\overline{x}_{t-1} \\overline{x}_t]$ _(**odometry** coordinate frame)_\n",
    "- the noise parameters $\\mathbf{\\alpha} = [\\alpha_1, \\alpha_2, \\alpha_3, \\alpha_4]$\n",
    "\n",
    "The output is a new (sampled) pose predicted by the motion model.\n",
    "\n",
    "Implement the `sample_motion_model_odometry` function and verify that it is correct for some test input. **[2.0]**"
   ]
  },
  {
   "cell_type": "code",
   "execution_count": 4,
   "metadata": {},
   "outputs": [
    {
     "name": "stdout",
     "output_type": "stream",
     "text": [
      "[1.79758424 0.93477525 1.55871978]\n"
     ]
    }
   ],
   "source": [
    "from ex4 import sample_motion_model_odometry\n",
    "\n",
    "pose = np.array([ 0.0, 0.0, 0.0 ])\n",
    "odometry = np.array([pose, np.array([ 2, 0, 0.5 * np.pi ])])\n",
    "alphas = np.array([ 1.0, 1.0, 0.01, 0.01 ])\n",
    "x_t = sample_motion_model_odometry(pose, odometry, alphas)\n",
    "\n",
    "print(x_t)"
   ]
  },
  {
   "cell_type": "markdown",
   "metadata": {},
   "source": [
    "## 4.4 Evaluate sample odometry motion model\n",
    "\n",
    "Assume that a robot starts at pose $x_0 = [2.0, 3.0, 0.0]$ in the map frame and moves according to a motion model with $\\mathbf{\\alpha} = [0.1, 0.1, 0.01, 0.01]$.\n",
    "\n",
    "The robot obtains the following odometry readings:\n",
    "\n",
    "1. $\\overline{x}_0 = [0.0 , 0.0 , 0.0   ]$\n",
    "2. $\\overline{x}_1 = [0.5 , 0.0 , \\pi/2 ]$\n",
    "3. $\\overline{x}_2 = [0.5 , 0.5 , 0.0   ]$\n",
    "4. $\\overline{x}_3 = [1.0 , 0.5 , 0.0   ]$\n",
    "5. $\\overline{x}_4 = [1.0 , 1.5 , \\pi/2 ]$\n",
    "6. $\\overline{x}_5 = [1.0 , 2.5 , \\pi/2 ]$\n",
    "\n",
    "Evaluate the `sample_motion_model_odometry` by considering 1000 samples and plot the resulting positions for each sample in one unique plot. **[3.0]**"
   ]
  },
  {
   "cell_type": "code",
   "execution_count": 8,
   "metadata": {},
   "outputs": [
    {
     "name": "stdout",
     "output_type": "stream",
     "text": [
      "Pose: [2. 3. 0.]\n",
      "Pose: [2.5    3.     1.5708]\n",
      "Pose: [2.49999816 3.5        0.        ]\n",
      "Pose: [2.99999816 3.5        0.        ]\n",
      "Pose: [2.99999449 4.5        1.5708    ]\n",
      "Pose: [2.99999082 5.5        1.5708    ]\n"
     ]
    },
    {
     "data": {
      "image/png": "[encoded data removed]",
      "text/plain": [
       "<Figure size 432x288 with 1 Axes>"
      ]
     },
     "metadata": {
      "needs_background": "light"
     },
     "output_type": "display_data"
    },
    {
     "name": "stdout",
     "output_type": "stream",
     "text": [
      "\n",
      "\n",
      "Odometry reading: [0.5        0.         1.57079633]\n",
      "Next pose: [2.5    3.     1.5708]\n",
      "Odometry reading: [0.5 0.5 0. ]\n",
      "Next pose: [2.49999816 3.5        0.        ]\n",
      "Odometry reading: [1.  0.5 0. ]\n",
      "Next pose: [2.99999816 3.5        0.        ]\n",
      "Odometry reading: [1.         1.5        1.57079633]\n",
      "Next pose: [2.99999449 4.5        1.5708    ]\n",
      "Odometry reading: [1.         2.5        1.57079633]\n",
      "Next pose: [2.99999082 5.5        1.5708    ]\n",
      "\n",
      "\n",
      "(5000,)\n",
      "(5000,)\n"
     ]
    },
    {
     "data": {
      "image/png": "[encoded data removed]",
      "text/plain": [
       "<Figure size 720x720 with 1 Axes>"
      ]
     },
     "metadata": {
      "needs_background": "light"
     },
     "output_type": "display_data"
    }
   ],
   "source": [
    "from ex4 import sample_motion_model_odometry\n",
    "\n",
    "pose = np.array([ 2.0, 3.0, 0.0 ]) # map coordinates\n",
    "alphas = np.array([ 0.1, 0.1, 0.01, 0.01 ])\n",
    "\n",
    "sample_size = 1000\n",
    "\n",
    "half_pi = 0.5 * np.pi\n",
    "odometry = np.array([\n",
    "    [ 0.0, 0.0, 0.0 ],\n",
    "    [ 0.5, 0.0, half_pi ],\n",
    "    [ 0.5, 0.5, 0.0 ],\n",
    "    [ 1.0, 0.5, 0.0 ],\n",
    "    [ 1.0, 1.5, half_pi ],\n",
    "    [ 1.0, 2.5, half_pi ]\n",
    "])\n",
    "\n",
    "def move(pose_prev, rot1, trans, rot2):\n",
    "    pose[0] += trans * np.cos(pose[2] + rot1)\n",
    "    pose[1] += trans * np.sin(pose[2] + rot1)\n",
    "    pose[2] += rot1 + rot2\n",
    "    return pose\n",
    "\n",
    "print(f'Pose: {pose}')\n",
    "plt.title('Robot\\'s path without uncertainty')\n",
    "plt.scatter(*pose[:-1], c='red')\n",
    "for idx in range(1, len(odometry)):\n",
    "    pose_prev = np.copy(pose)\n",
    "    rot1, trans, rot2 = inverse_motion_model(np.array([ odometry[idx - 1], odometry[idx] ]))\n",
    "    pose = move(pose, rot1, trans, rot2)\n",
    "    print(f'Pose: {pose}')\n",
    "    plt.scatter(*pose[:-1], c='red')\n",
    "    plt.plot([pose_prev[0], pose[0]], [pose_prev[1], pose[1]], c='blue')\n",
    "plt.show()\n",
    "\n",
    "print('\\n')\n",
    "\n",
    "pose = np.array([ 2.0, 3.0, 0.0 ])\n",
    "pnts = []\n",
    "for idx in range(1, len(odometry)):\n",
    "    print(f'Odometry reading: {odometry[idx]}')\n",
    "    for _ in range(sample_size):\n",
    "        pose_next = sample_motion_model_odometry(pose, np.array([ odometry[idx - 1], odometry[idx] ]), alphas)\n",
    "        pnts.append([*pose_next[:-1]])\n",
    "    rot1, trans, rot2 = inverse_motion_model(np.array([ odometry[idx - 1], odometry[idx] ]))\n",
    "    pose = move(pose_prev, rot1, trans, rot2)\n",
    "    print(f'Next pose: { pose }')\n",
    "    \n",
    "print('\\n')\n",
    "\n",
    "pnts = np.array(pnts)\n",
    "print(pnts[:, 0].shape)\n",
    "print(pnts[:, 1].shape)\n",
    "\n",
    "plt.figure(figsize=(10, 10))\n",
    "plt.title('Robot\\'s path with uncertainty')\n",
    "plt.scatter(pnts[:, 0], pnts[:, 1], color='black', alpha=0.1)\n",
    "plt.show()"
   ]
  },
  {
   "cell_type": "code",
   "execution_count": null,
   "metadata": {},
   "outputs": [],
   "source": []
  }
 ],
 "metadata": {
  "kernelspec": {
   "display_name": "Python 3",
   "language": "python",
   "name": "python3"
  },
  "language_info": {
   "codemirror_mode": {
    "name": "ipython",
    "version": 3
   },
   "file_extension": ".py",
   "mimetype": "text/x-python",
   "name": "python",
   "nbconvert_exporter": "python",
   "pygments_lexer": "ipython3",
   "version": "3.7.9"
  }
 },
 "nbformat": 4,
 "nbformat_minor": 4
}
