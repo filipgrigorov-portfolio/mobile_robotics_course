{
 "cells": [
  {
   "cell_type": "code",
   "execution_count": 1,
   "metadata": {},
   "outputs": [],
   "source": [
    "import matplotlib.pyplot as plt\n",
    "import numpy as np\n",
    "\n",
    "%matplotlib inline"
   ]
  },
  {
   "cell_type": "code",
   "execution_count": 2,
   "metadata": {},
   "outputs": [],
   "source": [
    "# (x_i, y_i)\n",
    "#data = np.array([ [2, 3], [5, 4], [9, 6], [4, 7], [8, 1], [7, 2] ])\n",
    "data = np.array([ [3, 6], [7, 11], [2, 8], [9, 10], [1, 4], [4, 6], [8, 12] ])"
   ]
  },
  {
   "cell_type": "code",
   "execution_count": 3,
   "metadata": {},
   "outputs": [
    {
     "data": {
      "image/png": "[encoded data removed]",
      "text/plain": [
       "<Figure size 432x288 with 1 Axes>"
      ]
     },
     "metadata": {
      "needs_background": "light"
     },
     "output_type": "display_data"
    }
   ],
   "source": [
    "plt.grid()\n",
    "plt.xlabel('x')\n",
    "plt.ylabel('y')\n",
    "plt.scatter(data[:, 0], data[:, 1])\n",
    "\n",
    "for idx in range(data.shape[0]):\n",
    "    plt.axvline(x=data[idx][0], color='green', linestyle='--')\n",
    "    plt.axhline(y=data[idx][1], color='red', linestyle='--')"
   ]
  },
  {
   "cell_type": "code",
   "execution_count": 24,
   "metadata": {},
   "outputs": [],
   "source": [
    "# We start off with the x-axis (find median x), depth=1 -> d=1 : x, d=2 : y, d=3 : x etc.\n",
    "# Another strategy is to keep track the depth: vertical split for even depth and horizontal split for odd depth, instead of\n",
    "# tracking the axis and switching it\n",
    "\n",
    "class kdtree:\n",
    "    def __init__(self, coords, axis):\n",
    "        self.coords = coords\n",
    "        self.axis = axis\n",
    "        \n",
    "        self.left = None\n",
    "        self.right = None\n",
    "        \n",
    "    def insert(self, coords, axis):\n",
    "        print(f'{self.axis} : {coords} versus {self.coords}')\n",
    "        \n",
    "        if coords[self.axis] < self.coords[self.axis]:\n",
    "            if self.left is None:\n",
    "                print('left')\n",
    "                axis = int(not axis)\n",
    "                self.left = kdtree(coords, axis)\n",
    "            else:\n",
    "                print('next left')\n",
    "                self.left.insert(coords, axis)\n",
    "        else:\n",
    "            if self.right is None:\n",
    "                print('right')\n",
    "                axis = int(not axis)\n",
    "                self.right = kdtree(coords, axis)\n",
    "            else:\n",
    "                print('next right')\n",
    "                self.right.insert(coords, axis)\n",
    "    \n",
    "    # I need to add a query bbox for near points\n",
    "    def find(self, query_pnt, axis):\n",
    "        print(f'{self.axis} : {query_pnt} versus {self.coords}')\n",
    "        \n",
    "        if query_pnt[self.axis] < self.coords[self.axis]:\n",
    "            if self.left is None:\n",
    "                print(f'Found in left: { self }')\n",
    "                return self.coords\n",
    "            else:\n",
    "                print('next left')\n",
    "                return self.left.find(query_pnt, axis)\n",
    "        else:\n",
    "            if self.right is None:\n",
    "                print(f'Found in right: { self }')\n",
    "                return self.coords\n",
    "            else:\n",
    "                print('next right')\n",
    "                return self.right.find(query_pnt, axis)\n",
    "    \n",
    "    def __str__(self):\n",
    "        return f'{str(self.coords)} -> ({str(self.left)}, {str(self.right)})'"
   ]
  },
  {
   "cell_type": "code",
   "execution_count": 25,
   "metadata": {},
   "outputs": [
    {
     "name": "stdout",
     "output_type": "stream",
     "text": [
      "\n",
      "0 : [ 7 11] versus [4 6]\n",
      "right\n",
      "\n",
      "0 : [2 8] versus [4 6]\n",
      "left\n",
      "\n",
      "0 : [ 8 12] versus [4 6]\n",
      "next right\n",
      "1 : [ 8 12] versus [ 7 11]\n",
      "right\n",
      "\n",
      "0 : [3 6] versus [4 6]\n",
      "next left\n",
      "0 : [3 6] versus [2 8]\n",
      "right\n",
      "\n",
      "0 : [ 9 10] versus [4 6]\n",
      "next right\n",
      "1 : [ 9 10] versus [ 7 11]\n",
      "left\n",
      "\n",
      "0 : [1 4] versus [4 6]\n",
      "next left\n",
      "0 : [1 4] versus [2 8]\n",
      "left\n"
     ]
    }
   ],
   "source": [
    "axis = 0\n",
    "indices = np.argsort(data[:, axis], kind='heapsort')\n",
    "sorted_data = data[indices]\n",
    "mid_idx = int(0.5 * len(sorted_data))\n",
    "coords = sorted_data[mid_idx]\n",
    "\n",
    "tree = kdtree(coords, axis)\n",
    "\n",
    "sorted_data = np.concatenate((sorted_data[: mid_idx], sorted_data[mid_idx + 1 :]))\n",
    "\n",
    "while len(sorted_data) > 0:\n",
    "    print('')\n",
    "    indices = np.argsort(sorted_data[:, axis], kind='heapsort')\n",
    "    \n",
    "    sorted_data = sorted_data[indices]\n",
    "    \n",
    "    mid_idx = int(0.5 * len(sorted_data))\n",
    "    \n",
    "    tree.insert(sorted_data[mid_idx], axis)\n",
    "    \n",
    "    sorted_data = np.concatenate((sorted_data[: mid_idx], sorted_data[mid_idx + 1 :]))\n",
    "    \n",
    "    axis = int(not axis)"
   ]
  },
  {
   "cell_type": "code",
   "execution_count": 26,
   "metadata": {},
   "outputs": [
    {
     "name": "stdout",
     "output_type": "stream",
     "text": [
      "[4 6] -> ([2 8] -> ([1 4] -> (None, None), [3 6] -> (None, None)), [ 7 11] -> ([ 9 10] -> (None, None), [ 8 12] -> (None, None)))\n"
     ]
    }
   ],
   "source": [
    "print(tree)"
   ]
  },
  {
   "cell_type": "code",
   "execution_count": 28,
   "metadata": {},
   "outputs": [
    {
     "name": "stdout",
     "output_type": "stream",
     "text": [
      "0 : [2, 8] versus [4 6]\n",
      "next left\n",
      "0 : [2, 8] versus [2 8]\n",
      "next right\n",
      "0 : [2, 8] versus [3 6]\n",
      "Found in left: [3 6] -> (None, None)\n",
      "Naive closest pnt:  [3 6]\n"
     ]
    }
   ],
   "source": [
    "# Search for nearest point in eucledian space\n",
    "query_pnt = [2, 8]\n",
    "print('Naive closest pnt: ', tree.find(query_pnt, 0))"
   ]
  },
  {
   "cell_type": "code",
   "execution_count": null,
   "metadata": {},
   "outputs": [],
   "source": []
  }
 ],
 "metadata": {
  "kernelspec": {
   "display_name": "Python 3",
   "language": "python",
   "name": "python3"
  },
  "language_info": {
   "codemirror_mode": {
    "name": "ipython",
    "version": 3
   },
   "file_extension": ".py",
   "mimetype": "text/x-python",
   "name": "python",
   "nbconvert_exporter": "python",
   "pygments_lexer": "ipython3",
   "version": "3.7.9"
  }
 },
 "nbformat": 4,
 "nbformat_minor": 4
}
